{
 "cells": [
  {
   "cell_type": "code",
   "id": "initial_id",
   "metadata": {
    "collapsed": true,
    "ExecuteTime": {
     "end_time": "2025-03-08T20:19:10.567942Z",
     "start_time": "2025-03-08T20:19:08.532297Z"
    }
   },
   "source": [
    "import torch\n",
    "from dataset import ToStyleDataset\n",
    "from utils import save_checkpoint, load_checkpoint\n",
    "from torch.utils.data import DataLoader\n",
    "import torch.optim as optim\n",
    "import config\n",
    "from discriminator import Discriminator\n",
    "from generator import Generator\n",
    "from train import train\n",
    "import warnings\n",
    "\n",
    "warnings.filterwarnings(\"ignore\")\n",
    "\n",
    "torch.cuda.is_available()"
   ],
   "outputs": [
    {
     "name": "stderr",
     "output_type": "stream",
     "text": [
      "C:\\Users\\User\\AppData\\Local\\Programs\\Python\\Python311\\Lib\\site-packages\\torch\\utils\\_pytree.py:185: FutureWarning: optree is installed but the version is too old to support PyTorch Dynamo in C++ pytree. C++ pytree support is disabled. Please consider upgrading optree using `python3 -m pip install --upgrade 'optree>=0.13.0'`.\n",
      "  warnings.warn(\n"
     ]
    },
    {
     "data": {
      "text/plain": [
       "True"
      ]
     },
     "execution_count": 1,
     "metadata": {},
     "output_type": "execute_result"
    }
   ],
   "execution_count": 1
  },
  {
   "metadata": {
    "ExecuteTime": {
     "end_time": "2025-03-08T20:19:11.198808Z",
     "start_time": "2025-03-08T20:19:11.105324Z"
    }
   },
   "cell_type": "code",
   "source": [
    "d_real = Discriminator(in_channels=3).to(config.DEVICE)\n",
    "g_real = Generator(in_channels=3, num_residuals=9).to(config.DEVICE)\n",
    "\n",
    "d_style = Discriminator(in_channels=3).to(config.DEVICE)\n",
    "g_style = Generator(in_channels=3, num_residuals=9).to(config.DEVICE)\n",
    "\n",
    "d_optim = optim.Adam(list(d_style.parameters()) + list(d_real.parameters()), lr=config.LR, betas=(0.5, 0.999))\n",
    "g_optim = optim.Adam(list(g_style.parameters()) + list(g_real.parameters()), lr=config.LR, betas=(0.5, 0.999))"
   ],
   "id": "40790482dd98f9e9",
   "outputs": [],
   "execution_count": 2
  },
  {
   "metadata": {
    "ExecuteTime": {
     "end_time": "2025-03-08T20:19:11.589110Z",
     "start_time": "2025-03-08T20:19:11.584951Z"
    }
   },
   "cell_type": "code",
   "source": [
    "if config.LOAD_MODEL:\n",
    "    load_checkpoint(\"checkpoints/\" + config.CHECKPOINT_G_STYLE, g_style, g_optim)\n",
    "    load_checkpoint(\"checkpoints/\" + config.CHECKPOINT_G_REAL, g_real, g_optim)\n",
    "    load_checkpoint(\"checkpoints/\" + config.CHECKPOINT_CRITIC_STYLE, d_style, d_optim)\n",
    "    load_checkpoint(\"checkpoints/\" + config.CHECKPOINT_CRITIC_REAL, d_real, d_optim)"
   ],
   "id": "72292a445335aaea",
   "outputs": [],
   "execution_count": 3
  },
  {
   "metadata": {
    "ExecuteTime": {
     "end_time": "2025-03-08T20:19:11.967243Z",
     "start_time": "2025-03-08T20:19:11.957765Z"
    }
   },
   "cell_type": "code",
   "source": [
    "dataset = ToStyleDataset(\n",
    "    root_real=config.TRAIN_PATH + \"/real\",\n",
    "    root_style=config.TRAIN_PATH + \"/ghibli\",\n",
    "    transform=config.transform\n",
    ")\n",
    "\n",
    "data_loader = DataLoader(dataset, batch_size=config.BATCH_SIZE, shuffle=True, num_workers=config.NUM_WORKERS,\n",
    "                         pin_memory=True)\n",
    "len(dataset)"
   ],
   "id": "a9b573a81a876e0a",
   "outputs": [
    {
     "data": {
      "text/plain": [
       "6287"
      ]
     },
     "execution_count": 4,
     "metadata": {},
     "output_type": "execute_result"
    }
   ],
   "execution_count": 4
  },
  {
   "metadata": {
    "ExecuteTime": {
     "end_time": "2025-03-08T20:19:12.468671Z",
     "start_time": "2025-03-08T20:19:12.465867Z"
    }
   },
   "cell_type": "code",
   "source": [
    "g_scaler = torch.cuda.amp.GradScaler()\n",
    "d_scaler = torch.cuda.amp.GradScaler()"
   ],
   "id": "3d971fac08f139b3",
   "outputs": [],
   "execution_count": 5
  },
  {
   "metadata": {
    "ExecuteTime": {
     "end_time": "2025-03-08T20:19:12.847611Z",
     "start_time": "2025-03-08T20:19:12.844610Z"
    }
   },
   "cell_type": "code",
   "source": [
    "d_loss = []\n",
    "g_loss = []"
   ],
   "id": "92568d32c0ee81d2",
   "outputs": [],
   "execution_count": 6
  },
  {
   "metadata": {
    "ExecuteTime": {
     "end_time": "2025-03-08T20:20:02.968769Z",
     "start_time": "2025-03-08T20:19:13.294498Z"
    }
   },
   "cell_type": "code",
   "source": [
    "for epoch in range(config.NUM_EPOCHS):\n",
    "    print(f'Epoch #{epoch}')\n",
    "    dl, gl = train(\n",
    "        d_real,\n",
    "        d_style,\n",
    "        g_real,\n",
    "        g_style,\n",
    "        data_loader,\n",
    "        d_optim,\n",
    "        g_optim,\n",
    "        d_scaler,\n",
    "        g_scaler\n",
    "    )\n",
    "\n",
    "    d_loss.extend(dl)\n",
    "    g_loss.extend(gl)\n",
    "\n",
    "    if config.SAVE_MODEL:\n",
    "        save_checkpoint(g_style, g_optim, filename=config.CHECKPOINT_G_STYLE)\n",
    "        save_checkpoint(g_real, g_optim, filename=config.CHECKPOINT_G_REAL)\n",
    "        save_checkpoint(d_style, d_optim, filename=config.CHECKPOINT_CRITIC_STYLE)\n",
    "        save_checkpoint(d_real, d_optim, filename=config.CHECKPOINT_CRITIC_REAL)\n"
   ],
   "id": "a579f99c3dd4a43c",
   "outputs": [
    {
     "name": "stdout",
     "output_type": "stream",
     "text": [
      "Epoch #0\n"
     ]
    },
    {
     "name": "stderr",
     "output_type": "stream",
     "text": [
      "  3%|▎         | 184/6287 [00:49<27:18,  3.73it/s, d_loss=1.25, g_loss=17]   \n"
     ]
    },
    {
     "ename": "KeyboardInterrupt",
     "evalue": "",
     "output_type": "error",
     "traceback": [
      "\u001B[1;31m---------------------------------------------------------------------------\u001B[0m",
      "\u001B[1;31mKeyboardInterrupt\u001B[0m                         Traceback (most recent call last)",
      "Cell \u001B[1;32mIn[7], line 3\u001B[0m\n\u001B[0;32m      1\u001B[0m \u001B[38;5;28;01mfor\u001B[39;00m epoch \u001B[38;5;129;01min\u001B[39;00m \u001B[38;5;28mrange\u001B[39m(config\u001B[38;5;241m.\u001B[39mNUM_EPOCHS):\n\u001B[0;32m      2\u001B[0m     \u001B[38;5;28mprint\u001B[39m(\u001B[38;5;124mf\u001B[39m\u001B[38;5;124m'\u001B[39m\u001B[38;5;124mEpoch #\u001B[39m\u001B[38;5;132;01m{\u001B[39;00mepoch\u001B[38;5;132;01m}\u001B[39;00m\u001B[38;5;124m'\u001B[39m)\n\u001B[1;32m----> 3\u001B[0m     dl, gl \u001B[38;5;241m=\u001B[39m \u001B[43mtrain\u001B[49m\u001B[43m(\u001B[49m\n\u001B[0;32m      4\u001B[0m \u001B[43m        \u001B[49m\u001B[43md_real\u001B[49m\u001B[43m,\u001B[49m\n\u001B[0;32m      5\u001B[0m \u001B[43m        \u001B[49m\u001B[43md_style\u001B[49m\u001B[43m,\u001B[49m\n\u001B[0;32m      6\u001B[0m \u001B[43m        \u001B[49m\u001B[43mg_real\u001B[49m\u001B[43m,\u001B[49m\n\u001B[0;32m      7\u001B[0m \u001B[43m        \u001B[49m\u001B[43mg_style\u001B[49m\u001B[43m,\u001B[49m\n\u001B[0;32m      8\u001B[0m \u001B[43m        \u001B[49m\u001B[43mdata_loader\u001B[49m\u001B[43m,\u001B[49m\n\u001B[0;32m      9\u001B[0m \u001B[43m        \u001B[49m\u001B[43md_optim\u001B[49m\u001B[43m,\u001B[49m\n\u001B[0;32m     10\u001B[0m \u001B[43m        \u001B[49m\u001B[43mg_optim\u001B[49m\u001B[43m,\u001B[49m\n\u001B[0;32m     11\u001B[0m \u001B[43m        \u001B[49m\u001B[43md_scaler\u001B[49m\u001B[43m,\u001B[49m\n\u001B[0;32m     12\u001B[0m \u001B[43m        \u001B[49m\u001B[43mg_scaler\u001B[49m\n\u001B[0;32m     13\u001B[0m \u001B[43m    \u001B[49m\u001B[43m)\u001B[49m\n\u001B[0;32m     15\u001B[0m     d_loss\u001B[38;5;241m.\u001B[39mextend(dl)\n\u001B[0;32m     16\u001B[0m     g_loss\u001B[38;5;241m.\u001B[39mextend(gl)\n",
      "File \u001B[1;32m~\\Desktop\\ML\\gai\\cyclepix\\train.py:119\u001B[0m, in \u001B[0;36mtrain\u001B[1;34m(d_real, d_style, g_real, g_style, data_loader, d_optim, g_optim, d_scaler, g_scaler, lambda_cycle, lambda_identity)\u001B[0m\n\u001B[0;32m    110\u001B[0m     g_loss \u001B[38;5;241m=\u001B[39m (\n\u001B[0;32m    111\u001B[0m             g_style_loss \u001B[38;5;241m+\u001B[39m g_real_loss  \u001B[38;5;66;03m# Adversarial loss\u001B[39;00m\n\u001B[0;32m    112\u001B[0m             \u001B[38;5;241m+\u001B[39m cycle_real_loss \u001B[38;5;241m*\u001B[39m lambda_cycle\n\u001B[1;32m   (...)\u001B[0m\n\u001B[0;32m    115\u001B[0m             \u001B[38;5;241m+\u001B[39m identity_style_loss \u001B[38;5;241m*\u001B[39m lambda_identity\n\u001B[0;32m    116\u001B[0m     )\n\u001B[0;32m    118\u001B[0m g_optim\u001B[38;5;241m.\u001B[39mzero_grad()\n\u001B[1;32m--> 119\u001B[0m \u001B[43mg_scaler\u001B[49m\u001B[38;5;241;43m.\u001B[39;49m\u001B[43mscale\u001B[49m\u001B[43m(\u001B[49m\u001B[43mg_loss\u001B[49m\u001B[43m)\u001B[49m\u001B[38;5;241;43m.\u001B[39;49m\u001B[43mbackward\u001B[49m\u001B[43m(\u001B[49m\u001B[43m)\u001B[49m\n\u001B[0;32m    120\u001B[0m g_scaler\u001B[38;5;241m.\u001B[39mstep(g_optim)\n\u001B[0;32m    121\u001B[0m g_scaler\u001B[38;5;241m.\u001B[39mupdate()\n",
      "File \u001B[1;32m~\\AppData\\Local\\Programs\\Python\\Python311\\Lib\\site-packages\\torch\\_tensor.py:626\u001B[0m, in \u001B[0;36mTensor.backward\u001B[1;34m(self, gradient, retain_graph, create_graph, inputs)\u001B[0m\n\u001B[0;32m    616\u001B[0m \u001B[38;5;28;01mif\u001B[39;00m has_torch_function_unary(\u001B[38;5;28mself\u001B[39m):\n\u001B[0;32m    617\u001B[0m     \u001B[38;5;28;01mreturn\u001B[39;00m handle_torch_function(\n\u001B[0;32m    618\u001B[0m         Tensor\u001B[38;5;241m.\u001B[39mbackward,\n\u001B[0;32m    619\u001B[0m         (\u001B[38;5;28mself\u001B[39m,),\n\u001B[1;32m   (...)\u001B[0m\n\u001B[0;32m    624\u001B[0m         inputs\u001B[38;5;241m=\u001B[39minputs,\n\u001B[0;32m    625\u001B[0m     )\n\u001B[1;32m--> 626\u001B[0m \u001B[43mtorch\u001B[49m\u001B[38;5;241;43m.\u001B[39;49m\u001B[43mautograd\u001B[49m\u001B[38;5;241;43m.\u001B[39;49m\u001B[43mbackward\u001B[49m\u001B[43m(\u001B[49m\n\u001B[0;32m    627\u001B[0m \u001B[43m    \u001B[49m\u001B[38;5;28;43mself\u001B[39;49m\u001B[43m,\u001B[49m\u001B[43m \u001B[49m\u001B[43mgradient\u001B[49m\u001B[43m,\u001B[49m\u001B[43m \u001B[49m\u001B[43mretain_graph\u001B[49m\u001B[43m,\u001B[49m\u001B[43m \u001B[49m\u001B[43mcreate_graph\u001B[49m\u001B[43m,\u001B[49m\u001B[43m \u001B[49m\u001B[43minputs\u001B[49m\u001B[38;5;241;43m=\u001B[39;49m\u001B[43minputs\u001B[49m\n\u001B[0;32m    628\u001B[0m \u001B[43m\u001B[49m\u001B[43m)\u001B[49m\n",
      "File \u001B[1;32m~\\AppData\\Local\\Programs\\Python\\Python311\\Lib\\site-packages\\torch\\autograd\\__init__.py:347\u001B[0m, in \u001B[0;36mbackward\u001B[1;34m(tensors, grad_tensors, retain_graph, create_graph, grad_variables, inputs)\u001B[0m\n\u001B[0;32m    342\u001B[0m     retain_graph \u001B[38;5;241m=\u001B[39m create_graph\n\u001B[0;32m    344\u001B[0m \u001B[38;5;66;03m# The reason we repeat the same comment below is that\u001B[39;00m\n\u001B[0;32m    345\u001B[0m \u001B[38;5;66;03m# some Python versions print out the first line of a multi-line function\u001B[39;00m\n\u001B[0;32m    346\u001B[0m \u001B[38;5;66;03m# calls in the traceback and some print out the last line\u001B[39;00m\n\u001B[1;32m--> 347\u001B[0m \u001B[43m_engine_run_backward\u001B[49m\u001B[43m(\u001B[49m\n\u001B[0;32m    348\u001B[0m \u001B[43m    \u001B[49m\u001B[43mtensors\u001B[49m\u001B[43m,\u001B[49m\n\u001B[0;32m    349\u001B[0m \u001B[43m    \u001B[49m\u001B[43mgrad_tensors_\u001B[49m\u001B[43m,\u001B[49m\n\u001B[0;32m    350\u001B[0m \u001B[43m    \u001B[49m\u001B[43mretain_graph\u001B[49m\u001B[43m,\u001B[49m\n\u001B[0;32m    351\u001B[0m \u001B[43m    \u001B[49m\u001B[43mcreate_graph\u001B[49m\u001B[43m,\u001B[49m\n\u001B[0;32m    352\u001B[0m \u001B[43m    \u001B[49m\u001B[43minputs\u001B[49m\u001B[43m,\u001B[49m\n\u001B[0;32m    353\u001B[0m \u001B[43m    \u001B[49m\u001B[43mallow_unreachable\u001B[49m\u001B[38;5;241;43m=\u001B[39;49m\u001B[38;5;28;43;01mTrue\u001B[39;49;00m\u001B[43m,\u001B[49m\n\u001B[0;32m    354\u001B[0m \u001B[43m    \u001B[49m\u001B[43maccumulate_grad\u001B[49m\u001B[38;5;241;43m=\u001B[39;49m\u001B[38;5;28;43;01mTrue\u001B[39;49;00m\u001B[43m,\u001B[49m\n\u001B[0;32m    355\u001B[0m \u001B[43m\u001B[49m\u001B[43m)\u001B[49m\n",
      "File \u001B[1;32m~\\AppData\\Local\\Programs\\Python\\Python311\\Lib\\site-packages\\torch\\autograd\\graph.py:823\u001B[0m, in \u001B[0;36m_engine_run_backward\u001B[1;34m(t_outputs, *args, **kwargs)\u001B[0m\n\u001B[0;32m    821\u001B[0m     unregister_hooks \u001B[38;5;241m=\u001B[39m _register_logging_hooks_on_whole_graph(t_outputs)\n\u001B[0;32m    822\u001B[0m \u001B[38;5;28;01mtry\u001B[39;00m:\n\u001B[1;32m--> 823\u001B[0m     \u001B[38;5;28;01mreturn\u001B[39;00m \u001B[43mVariable\u001B[49m\u001B[38;5;241;43m.\u001B[39;49m\u001B[43m_execution_engine\u001B[49m\u001B[38;5;241;43m.\u001B[39;49m\u001B[43mrun_backward\u001B[49m\u001B[43m(\u001B[49m\u001B[43m  \u001B[49m\u001B[38;5;66;43;03m# Calls into the C++ engine to run the backward pass\u001B[39;49;00m\n\u001B[0;32m    824\u001B[0m \u001B[43m        \u001B[49m\u001B[43mt_outputs\u001B[49m\u001B[43m,\u001B[49m\u001B[43m \u001B[49m\u001B[38;5;241;43m*\u001B[39;49m\u001B[43margs\u001B[49m\u001B[43m,\u001B[49m\u001B[43m \u001B[49m\u001B[38;5;241;43m*\u001B[39;49m\u001B[38;5;241;43m*\u001B[39;49m\u001B[43mkwargs\u001B[49m\n\u001B[0;32m    825\u001B[0m \u001B[43m    \u001B[49m\u001B[43m)\u001B[49m  \u001B[38;5;66;03m# Calls into the C++ engine to run the backward pass\u001B[39;00m\n\u001B[0;32m    826\u001B[0m \u001B[38;5;28;01mfinally\u001B[39;00m:\n\u001B[0;32m    827\u001B[0m     \u001B[38;5;28;01mif\u001B[39;00m attach_logging_hooks:\n",
      "\u001B[1;31mKeyboardInterrupt\u001B[0m: "
     ]
    }
   ],
   "execution_count": 7
  },
  {
   "metadata": {},
   "cell_type": "code",
   "source": "",
   "id": "a9ec5078ae1afce0",
   "outputs": [],
   "execution_count": null
  }
 ],
 "metadata": {
  "kernelspec": {
   "display_name": "Python 3",
   "language": "python",
   "name": "python3"
  },
  "language_info": {
   "codemirror_mode": {
    "name": "ipython",
    "version": 2
   },
   "file_extension": ".py",
   "mimetype": "text/x-python",
   "name": "python",
   "nbconvert_exporter": "python",
   "pygments_lexer": "ipython2",
   "version": "2.7.6"
  }
 },
 "nbformat": 4,
 "nbformat_minor": 5
}
